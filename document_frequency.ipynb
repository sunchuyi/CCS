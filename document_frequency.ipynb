{
 "cells": [
  {
   "cell_type": "code",
   "execution_count": 8,
   "metadata": {},
   "outputs": [],
   "source": [
    "#Read in data\n",
    "\n",
    "import pandas as pd\n",
    "import collections as co\n",
    "import math\n",
    "import numpy as np\n",
    "import scipy.sparse as spr\n",
    "import nltk\n",
    "from nltk.stem.snowball import SnowballStemmer\n",
    "from nltk.corpus import stopwords\n",
    "\n",
    "bios = pd.read_csv(\"bios.csv\", usecols = [\"Bio\",\"Label\",\"Year\",\"Name\"])"
   ]
  },
  {
   "cell_type": "code",
   "execution_count": 9,
   "metadata": {},
   "outputs": [
    {
     "name": "stderr",
     "output_type": "stream",
     "text": [
      "C:\\ProgramData\\Anaconda3\\lib\\site-packages\\pandas\\core\\indexing.py:189: SettingWithCopyWarning: \n",
      "A value is trying to be set on a copy of a slice from a DataFrame\n",
      "\n",
      "See the caveats in the documentation: http://pandas.pydata.org/pandas-docs/stable/indexing.html#indexing-view-versus-copy\n",
      "  self._setitem_with_indexer(indexer, value)\n"
     ]
    }
   ],
   "source": [
    "#Clean up\n",
    "n = bios.shape[0]\n",
    "\n",
    "bios.Bio = bios.Bio.str.lower()\n",
    "\n",
    "bios.Name = bios.Name.str.lower()\n",
    "\n",
    "stemmer = SnowballStemmer(\"english\")\n",
    "\n",
    "for i in range(n):\n",
    "    bios.Bio.loc[i] = nltk.word_tokenize(bios.Bio.loc[i])\n",
    "    bios.Name.loc[i] = nltk.word_tokenize(bios.Name.loc[i])\n",
    "\n",
    "for i in range(n):\n",
    "    for j in range(len(bios.Bio.loc[i])):\n",
    "        bios.Bio.loc[i][j] = stemmer.stem(bios.Bio.loc[i][j])\n",
    "    \n",
    "    if (\"dr\" in bios.Name.loc[i]):\n",
    "        bios.Name.loc[i].remove(\"dr\")\n",
    "    if (\"prof\" in bios.Name.loc[i]):\n",
    "        bios.Name.loc[i].remove(\"prof\")\n",
    "    \n",
    "    if (bios.Label.loc[i] != 'F') or (bios.Label.loc[i] != 'M'):\n",
    "        if ('F' in bios.Label.loc[i]):\n",
    "            bios.loc[i,\"Label\"] = 'f'\n",
    "        elif ('M' in bios.Label.loc[i]):\n",
    "            bios.loc[i,\"Label\"] = 'm'"
   ]
  },
  {
   "cell_type": "code",
   "execution_count": 10,
   "metadata": {},
   "outputs": [
    {
     "name": "stdout",
     "output_type": "stream",
     "text": [
      "Top 10 word stems:\n",
      "           0    1\n",
      "0   research  154\n",
      "1    univers  145\n",
      "2     scienc  137\n",
      "3     comput  136\n",
      "4  professor  121\n",
      "5     receiv   77\n",
      "6     includ   76\n",
      "7       work   69\n",
      "8     system   68\n",
      "9      award   68\n",
      "\n",
      "Top 10 word stems for males:\n",
      "           0    1\n",
      "0   research  121\n",
      "1    univers  115\n",
      "2     scienc  112\n",
      "3     comput  109\n",
      "4  professor   93\n",
      "5     includ   65\n",
      "6       work   60\n",
      "7     receiv   58\n",
      "8   institut   55\n",
      "9      award   54\n",
      "\n",
      "Top 10 word stems for females:\n",
      "           0   1\n",
      "0   research  33\n",
      "1    univers  30\n",
      "2  professor  28\n",
      "3     comput  27\n",
      "4     scienc  25\n",
      "5     receiv  19\n",
      "6     associ  16\n",
      "7      engin  16\n",
      "8     fellow  15\n",
      "9   interest  14\n"
     ]
    }
   ],
   "source": [
    "#Calculate document frequency for male and female bios\n",
    "dict_base = co.Counter()\n",
    "dict_all = co.Counter()\n",
    "dict_m = co.Counter()\n",
    "dict_f = co.Counter()\n",
    "stop_words = set(stopwords.words('english'))\n",
    "\n",
    "for j in range(len(bios.Bio.loc[i])):\n",
    "    if (bios.Bio.loc[i][j] not in stop_words) and (bios.Bio.loc[i][j] not in bios.Name.loc[i]) and (bios.Bio.loc[i][j].isalpha()):\n",
    "        dict_base[bios.Bio.loc[i][j]] += 1\n",
    "\n",
    "for i in range(n):\n",
    "    docflag = dict_base.copy()\n",
    "    if bios.Label.loc[i] == 'm':\n",
    "        for j in range(len(bios.Bio.loc[i])):\n",
    "            if (bios.Bio.loc[i][j] not in stop_words) and (bios.Bio.loc[i][j] not in bios.Name.loc[i]) and (bios.Bio.loc[i][j].isalpha()):\n",
    "                if (docflag[bios.Bio.loc[i][j]] > -1):\n",
    "                    dict_m[bios.Bio.loc[i][j]] += 1\n",
    "                    dict_all[bios.Bio.loc[i][j]] += 1\n",
    "                    docflag[bios.Bio.loc[i][j]] = -1\n",
    "    else:\n",
    "        for j in range(len(bios.Bio.loc[i])):\n",
    "            if (bios.Bio.loc[i][j] not in stop_words) and (bios.Bio.loc[i][j] not in bios.Name.loc[i]) and (bios.Bio.loc[i][j].isalpha()):\n",
    "                if (docflag[bios.Bio.loc[i][j]] > -1):\n",
    "                    dict_f[bios.Bio.loc[i][j]] += 1\n",
    "                    dict_all[bios.Bio.loc[i][j]] += 1\n",
    "                    docflag[bios.Bio.loc[i][j]] = -1\n",
    "\n",
    "print(\"Top 10 word stems:\")\n",
    "print(pd.DataFrame(dict_all.most_common()[:10]))\n",
    "print()\n",
    "print(\"Top 10 word stems for males:\")\n",
    "print(pd.DataFrame(dict_m.most_common()[:10]))\n",
    "print()\n",
    "print(\"Top 10 word stems for females:\")\n",
    "print(pd.DataFrame(dict_f.most_common()[:10]))"
   ]
  }
 ],
 "metadata": {
  "kernelspec": {
   "display_name": "Python 3",
   "language": "python",
   "name": "python3"
  },
  "language_info": {
   "codemirror_mode": {
    "name": "ipython",
    "version": 3
   },
   "file_extension": ".py",
   "mimetype": "text/x-python",
   "name": "python",
   "nbconvert_exporter": "python",
   "pygments_lexer": "ipython3",
   "version": "3.6.5"
  }
 },
 "nbformat": 4,
 "nbformat_minor": 2
}
