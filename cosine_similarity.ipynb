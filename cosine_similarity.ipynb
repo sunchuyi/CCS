{
 "cells": [
  {
   "cell_type": "code",
   "execution_count": 2,
   "metadata": {},
   "outputs": [],
   "source": [
    "#Read in data\n",
    "\n",
    "import pandas as pd\n",
    "import collections as co\n",
    "import math\n",
    "import numpy as np\n",
    "import scipy.sparse as spr\n",
    "import nltk\n",
    "from nltk.stem.snowball import SnowballStemmer\n",
    "from nltk.corpus import stopwords\n",
    "\n",
    "bios = pd.read_csv(\"bios.csv\", usecols = [\"Bio\",\"Label\",\"Year\",\"Name\"])"
   ]
  },
  {
   "cell_type": "code",
   "execution_count": 3,
   "metadata": {},
   "outputs": [
    {
     "name": "stderr",
     "output_type": "stream",
     "text": [
      "C:\\ProgramData\\Anaconda3\\lib\\site-packages\\pandas\\core\\indexing.py:189: SettingWithCopyWarning: \n",
      "A value is trying to be set on a copy of a slice from a DataFrame\n",
      "\n",
      "See the caveats in the documentation: http://pandas.pydata.org/pandas-docs/stable/indexing.html#indexing-view-versus-copy\n",
      "  self._setitem_with_indexer(indexer, value)\n"
     ]
    }
   ],
   "source": [
    "#Clean up\n",
    "n = bios.shape[0]\n",
    "\n",
    "bios.Bio = bios.Bio.str.lower()\n",
    "\n",
    "bios.Name = bios.Name.str.lower()\n",
    "\n",
    "stemmer = SnowballStemmer(\"english\")\n",
    "\n",
    "for i in range(n):\n",
    "    bios.Bio.loc[i] = nltk.word_tokenize(bios.Bio.loc[i])\n",
    "    bios.Name.loc[i] = nltk.word_tokenize(bios.Name.loc[i])\n",
    "\n",
    "for i in range(n):\n",
    "    for j in range(len(bios.Bio.loc[i])):\n",
    "        bios.Bio.loc[i][j] = stemmer.stem(bios.Bio.loc[i][j])\n",
    "    \n",
    "    for j in range(len(bios.Bio.loc[i])):\n",
    "        bios.Bio.loc[i][j] = bios.Bio.loc[i][j].strip(\" .,?!/\")\n",
    "        \n",
    "    \n",
    "    if (\"dr\" in bios.Name.loc[i]):\n",
    "        bios.Name.loc[i].remove(\"dr\")\n",
    "    if (\"prof\" in bios.Name.loc[i]):\n",
    "        bios.Name.loc[i].remove(\"prof\")\n",
    "    \n",
    "    if (bios.Label.loc[i] != 'F') or (bios.Label.loc[i] != 'M'):\n",
    "        if ('F' in bios.Label.loc[i]):\n",
    "            bios.loc[i,\"Label\"] = 'f'\n",
    "        elif ('M' in bios.Label.loc[i]):\n",
    "            bios.loc[i,\"Label\"] = 'm'"
   ]
  },
  {
   "cell_type": "code",
   "execution_count": 4,
   "metadata": {},
   "outputs": [],
   "source": [
    "#Build dictionary and document vectors\n",
    "lookup = co.Counter()\n",
    "stop_words = set(stopwords.words('english'))\n",
    "index = 0\n",
    "\n",
    "for i in range(n):\n",
    "    for j in range(len(bios.Bio.loc[i])):\n",
    "        if (bios.Bio.loc[i][j] not in stop_words) and (bios.Bio.loc[i][j] not in bios.Name.loc[i]) and (bios.Bio.loc[i][j].isalpha()) and (bios.Bio.loc[i][j] not in lookup):\n",
    "            lookup[bios.Bio.loc[i][j]] = index\n",
    "            index += 1\n",
    "\n",
    "idf = np.zeros(len(lookup))\n",
    "\n",
    "for i in range(n):\n",
    "    docflag = lookup.copy()\n",
    "    for j in range(len(bios.Bio.loc[i])):\n",
    "        if (bios.Bio.loc[i][j] not in stop_words) and (bios.Bio.loc[i][j] not in bios.Name.loc[i]) and (bios.Bio.loc[i][j].isalpha()):\n",
    "            if (docflag[bios.Bio.loc[i][j]] > -1):\n",
    "                idf[lookup[bios.Bio.loc[i][j]]]  += 1\n",
    "                docflag[bios.Bio.loc[i][j]] = -1\n",
    "for i in range(len(lookup)):\n",
    "    idf[i] = math.log(n/idf[i])\n",
    "    \n",
    "docvec = []\n",
    "\n",
    "for i in range(n):\n",
    "    docvec.append(np.zeros(len(lookup)))\n",
    "    for j in range(len(bios.Bio.loc[i])):\n",
    "        if (bios.Bio.loc[i][j] not in stop_words) and (bios.Bio.loc[i][j] not in bios.Name.loc[i]) and (bios.Bio.loc[i][j].isalpha()):\n",
    "            docvec[i][lookup[bios.Bio.loc[i][j]]] += 1\n",
    "    docvec[i] = docvec[i]*idf\n",
    "    docvec[i] = docvec[i]/(np.linalg.norm(docvec[i]))\n",
    "    docvec[i] = spr.csr_matrix(docvec[i])"
   ]
  },
  {
   "cell_type": "code",
   "execution_count": 5,
   "metadata": {},
   "outputs": [
    {
     "name": "stdout",
     "output_type": "stream",
     "text": [
      "Average cosine similarity between men:\n",
      "0.031040720348685547\n",
      "Average cosine similarity between women:\n",
      "0.03242953891815223\n"
     ]
    }
   ],
   "source": [
    "#Calculate cosine similarity for M/M and F/F pairs\n",
    "docM = [[],[]]\n",
    "docF = [[],[]]\n",
    "for i in range(n):\n",
    "    if (bios.Label.loc[i] == \"m\"):\n",
    "        docM[1].append(i)\n",
    "        docM[0].append(docvec[i])\n",
    "    else:\n",
    "        docF[1].append(i)\n",
    "        docF[0].append(docvec[i])\n",
    "        \n",
    "simM = []\n",
    "simF = []\n",
    "for i in range(len(docF[1])):\n",
    "    for j in range(i+1,len(docF[1])):\n",
    "        simF.append((docF[0][i].dot(docF[0][j].transpose())))\n",
    "for i in range(len(docM[1])):\n",
    "    for j in range(i+1,len(docM[1])):\n",
    "        simM.append((docM[0][i].dot(docM[0][j].transpose())))\n",
    "\n",
    "avgM = 0\n",
    "avgF = 0\n",
    "for i in range(len(simM)):\n",
    "    avgM += simM[i].toarray()[0][0]\n",
    "for i in range(len(simF)):\n",
    "    avgF += simF[i].toarray()[0][0]\n",
    "avgM = avgM/len(simM)\n",
    "avgF = avgF/len(simF)\n",
    "\n",
    "print(\"Average cosine similarity between men:\")\n",
    "print(avgM)\n",
    "print(\"Average cosine similarity between women:\")\n",
    "print(avgF)"
   ]
  },
  {
   "cell_type": "code",
   "execution_count": 6,
   "metadata": {},
   "outputs": [
    {
     "name": "stdout",
     "output_type": "stream",
     "text": [
      "Average cosine similarity between men and women\n",
      "0.0299351231674897\n"
     ]
    }
   ],
   "source": [
    "#Calculate cosine similarity for M/F pairs\n",
    "simMF = []\n",
    "for i in range(len(docM[1])):\n",
    "    for j in range(len(docF[1])):\n",
    "        simMF.append((docM[0][i].dot(docF[0][j].transpose())))\n",
    "        \n",
    "avgMF = 0\n",
    "for i in range(len(simMF)):\n",
    "    avgMF += simMF[i].toarray()[0][0]\n",
    "avgMF = avgMF/len(simMF)\n",
    "\n",
    "print(\"Average cosine similarity between men and women\")\n",
    "print(avgMF)"
   ]
  },
  {
   "cell_type": "code",
   "execution_count": 26,
   "metadata": {},
   "outputs": [],
   "source": [
    "#Create box plot\n",
    "\n",
    "simM_ext = []\n",
    "simF_ext = []\n",
    "simMF_ext = []\n",
    "\n",
    "for i in range(len(simM)):\n",
    "    simM_ext.append(simM[i].toarray()[0][0])\n",
    "    \n",
    "for i in range(len(simF)):\n",
    "    simF_ext.append(simF[i].toarray()[0][0])\n",
    "\n",
    "for i in range(len(simMF)):\n",
    "    simMF_ext.append(simMF[i].toarray()[0][0])\n",
    "\n",
    "sim = {\"Male-male\": pd.Series(simM_ext),\n",
    "      \"Female-female\": pd.Series(simF_ext),\n",
    "      \"Male-female\": pd.Series(simMF_ext)}\n",
    "    \n",
    "cs = pd.DataFrame(sim)"
   ]
  },
  {
   "cell_type": "code",
   "execution_count": 45,
   "metadata": {},
   "outputs": [
    {
     "data": {
      "image/png": "[encoded data removed]",
      "text/plain": [
       "<Figure size 1080x720 with 1 Axes>"
      ]
     },
     "metadata": {},
     "output_type": "display_data"
    }
   ],
   "source": [
    "csbox = cs.boxplot(figsize = [15,10],showfliers = False)"
   ]
  }
 ],
 "metadata": {
  "kernelspec": {
   "display_name": "Python 3",
   "language": "python",
   "name": "python3"
  },
  "language_info": {
   "codemirror_mode": {
    "name": "ipython",
    "version": 3
   },
   "file_extension": ".py",
   "mimetype": "text/x-python",
   "name": "python",
   "nbconvert_exporter": "python",
   "pygments_lexer": "ipython3",
   "version": "3.6.5"
  }
 },
 "nbformat": 4,
 "nbformat_minor": 2
}
