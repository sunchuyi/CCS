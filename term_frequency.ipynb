{
 "cells": [
  {
   "cell_type": "code",
   "execution_count": 14,
   "metadata": {},
   "outputs": [],
   "source": [
    "#Read in data\n",
    "\n",
    "import pandas as pd\n",
    "import collections as co\n",
    "import math\n",
    "import numpy as np\n",
    "import scipy.sparse as spr\n",
    "import nltk\n",
    "from nltk.stem.snowball import SnowballStemmer\n",
    "from nltk.corpus import stopwords\n",
    "\n",
    "bios = pd.read_csv(\"bios.csv\", usecols = [\"Bio\",\"Label\",\"Year\",\"Name\"])"
   ]
  },
  {
   "cell_type": "code",
   "execution_count": 15,
   "metadata": {},
   "outputs": [
    {
     "name": "stderr",
     "output_type": "stream",
     "text": [
      "C:\\ProgramData\\Anaconda3\\lib\\site-packages\\pandas\\core\\indexing.py:189: SettingWithCopyWarning: \n",
      "A value is trying to be set on a copy of a slice from a DataFrame\n",
      "\n",
      "See the caveats in the documentation: http://pandas.pydata.org/pandas-docs/stable/indexing.html#indexing-view-versus-copy\n",
      "  self._setitem_with_indexer(indexer, value)\n"
     ]
    }
   ],
   "source": [
    "#Clean up\n",
    "n = bios.shape[0]\n",
    "\n",
    "bios.Bio = bios.Bio.str.lower()\n",
    "\n",
    "bios.Name = bios.Name.str.lower()\n",
    "\n",
    "stemmer = SnowballStemmer(\"english\")\n",
    "\n",
    "for i in range(n):\n",
    "    bios.Bio.loc[i] = nltk.word_tokenize(bios.Bio.loc[i])\n",
    "    bios.Name.loc[i] = nltk.word_tokenize(bios.Name.loc[i])\n",
    "\n",
    "for i in range(n):\n",
    "    for j in range(len(bios.Bio.loc[i])):\n",
    "        bios.Bio.loc[i][j] = stemmer.stem(bios.Bio.loc[i][j])\n",
    "    \n",
    "    if (\"dr\" in bios.Name.loc[i]):\n",
    "        bios.Name.loc[i].remove(\"dr\")\n",
    "    if (\"prof\" in bios.Name.loc[i]):\n",
    "        bios.Name.loc[i].remove(\"prof\")\n",
    "    \n",
    "    if (bios.Label.loc[i] != 'F') or (bios.Label.loc[i] != 'M'):\n",
    "        if ('F' in bios.Label.loc[i]):\n",
    "            bios.loc[i,\"Label\"] = 'f'\n",
    "        elif ('M' in bios.Label.loc[i]):\n",
    "            bios.loc[i,\"Label\"] = 'm'"
   ]
  },
  {
   "cell_type": "code",
   "execution_count": 16,
   "metadata": {},
   "outputs": [
    {
     "name": "stdout",
     "output_type": "stream",
     "text": [
      "Top 10 word stems:\n",
      "           0    1\n",
      "0     comput  424\n",
      "1   research  381\n",
      "2    univers  344\n",
      "3     scienc  308\n",
      "4  professor  172\n",
      "5      award  154\n",
      "6     system  134\n",
      "7  algorithm  113\n",
      "8       work  110\n",
      "9       data  104\n",
      "\n",
      "Top 10 word stems for males:\n",
      "           0    1\n",
      "0     comput  353\n",
      "1   research  297\n",
      "2    univers  280\n",
      "3     scienc  242\n",
      "4  professor  130\n",
      "5     system  114\n",
      "6      award  110\n",
      "7  algorithm   98\n",
      "8       work   93\n",
      "9     includ   89\n",
      "\n",
      "Top 10 word stems for females:\n",
      "           0   1\n",
      "0   research  84\n",
      "1     comput  71\n",
      "2     scienc  66\n",
      "3    univers  64\n",
      "4      award  44\n",
      "5  professor  42\n",
      "6      engin  27\n",
      "7     receiv  25\n",
      "8      learn  24\n",
      "9       data  23\n"
     ]
    }
   ],
   "source": [
    "#Count words for male and female bios\n",
    "dict_all = co.Counter()\n",
    "dict_m = co.Counter()\n",
    "dict_f = co.Counter()\n",
    "stop_words = set(stopwords.words('english'))\n",
    "\n",
    "for i in range(n):\n",
    "    if bios.Label.loc[i] == 'm':\n",
    "        for j in range(len(bios.Bio.loc[i])):\n",
    "            if (bios.Bio.loc[i][j] not in stop_words) and (bios.Bio.loc[i][j] not in bios.Name.loc[i]) and (bios.Bio.loc[i][j].isalpha()):\n",
    "                dict_all[bios.Bio.loc[i][j]] += 1\n",
    "                dict_m[bios.Bio.loc[i][j]] += 1\n",
    "                \n",
    "    else:\n",
    "        for j in range(len(bios.Bio.loc[i])):\n",
    "            if (bios.Bio.loc[i][j] not in stop_words) and (bios.Bio.loc[i][j] not in bios.Name.loc[i]) and (bios.Bio.loc[i][j].isalpha()):\n",
    "                dict_all[bios.Bio.loc[i][j]] += 1\n",
    "                dict_f[bios.Bio.loc[i][j]] += 1\n",
    "\n",
    "print(\"Top 10 word stems:\")\n",
    "print(pd.DataFrame(dict_all.most_common()[:10]))\n",
    "print()\n",
    "print(\"Top 10 word stems for males:\")\n",
    "print(pd.DataFrame(dict_m.most_common()[:10]))\n",
    "print()\n",
    "print(\"Top 10 word stems for females:\")\n",
    "print(pd.DataFrame(dict_f.most_common()[:10]))"
   ]
  }
 ],
 "metadata": {
  "kernelspec": {
   "display_name": "Python 3",
   "language": "python",
   "name": "python3"
  },
  "language_info": {
   "codemirror_mode": {
    "name": "ipython",
    "version": 3
   },
   "file_extension": ".py",
   "mimetype": "text/x-python",
   "name": "python",
   "nbconvert_exporter": "python",
   "pygments_lexer": "ipython3",
   "version": "3.6.5"
  }
 },
 "nbformat": 4,
 "nbformat_minor": 2
}
